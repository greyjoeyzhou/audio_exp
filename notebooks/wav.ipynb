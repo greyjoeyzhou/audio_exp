{
 "cells": [
  {
   "cell_type": "code",
   "execution_count": 2,
   "metadata": {},
   "outputs": [
    {
     "name": "stdout",
     "output_type": "stream",
     "text": [
      "<wave.Wave_read object at 0x7efe48c9b530>\n"
     ]
    }
   ],
   "source": [
    "import wave\n",
    "wav_filename = \"/mnt/d/tom/data/wave/short.wav\"\n",
    "with wave.open(wav_filename) as wav_file:\n",
    "    print(wav_file)"
   ]
  },
  {
   "cell_type": "code",
   "execution_count": 3,
   "metadata": {},
   "outputs": [
    {
     "data": {
      "text/plain": [
       "_wave_params(nchannels=1, sampwidth=2, framerate=16000, nframes=2648832, comptype='NONE', compname='not compressed')"
      ]
     },
     "execution_count": 3,
     "metadata": {},
     "output_type": "execute_result"
    }
   ],
   "source": [
    "import wave\n",
    "\n",
    "with wave.open(wav_filename) as wav_file:\n",
    "    metadata = wav_file.getparams()\n",
    "    frames = wav_file.readframes(metadata.nframes)\n",
    "\n",
    "metadata"
   ]
  },
  {
   "cell_type": "code",
   "execution_count": 4,
   "metadata": {},
   "outputs": [
    {
     "data": {
      "text/plain": [
       "wave._wave_params"
      ]
     },
     "execution_count": 4,
     "metadata": {},
     "output_type": "execute_result"
    }
   ],
   "source": [
    "type(metadata)"
   ]
  },
  {
   "cell_type": "code",
   "execution_count": 5,
   "metadata": {},
   "outputs": [
    {
     "data": {
      "text/plain": [
       "2648832"
      ]
     },
     "execution_count": 5,
     "metadata": {},
     "output_type": "execute_result"
    }
   ],
   "source": [
    "import array\n",
    "pcm_samples = array.array(\"h\", frames)\n",
    "len(pcm_samples)"
   ]
  },
  {
   "cell_type": "code",
   "execution_count": null,
   "metadata": {},
   "outputs": [],
   "source": [
    "import math\n",
    "import wave\n",
    "\n",
    "FRAMES_PER_SECOND = 44100\n",
    "\n",
    "def sound_wave(frequency, num_seconds):\n",
    "    for frame in range(round(num_seconds * FRAMES_PER_SECOND)):\n",
    "        time = frame / FRAMES_PER_SECOND\n",
    "        amplitude = math.sin(2 * math.pi * frequency * time)\n",
    "        yield round((amplitude + 1) / 2 * 255)\n",
    "\n",
    "with wave.open(\"output.wav\", mode=\"wb\") as wav_file:\n",
    "    wav_file.setnchannels(1)\n",
    "    wav_file.setsampwidth(1)\n",
    "    wav_file.setframerate(FRAMES_PER_SECOND)\n",
    "    wav_file.writeframes(bytes(sound_wave(440, 2.5)))"
   ]
  }
 ],
 "metadata": {
  "kernelspec": {
   "display_name": "wave",
   "language": "python",
   "name": "python3"
  },
  "language_info": {
   "codemirror_mode": {
    "name": "ipython",
    "version": 3
   },
   "file_extension": ".py",
   "mimetype": "text/x-python",
   "name": "python",
   "nbconvert_exporter": "python",
   "pygments_lexer": "ipython3",
   "version": "3.12.3"
  }
 },
 "nbformat": 4,
 "nbformat_minor": 2
}
